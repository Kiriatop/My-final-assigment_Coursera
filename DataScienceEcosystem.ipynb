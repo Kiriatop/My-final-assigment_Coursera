{
 "cells": [
  {
   "cell_type": "markdown",
   "id": "f51147e8",
   "metadata": {},
   "source": [
    "# Data Science Tools and Ecosystem"
   ]
  },
  {
   "cell_type": "markdown",
   "id": "f6bf73f2",
   "metadata": {},
   "source": [
    "In this work, Data Science Tools and Ecosystem are together."
   ]
  },
  {
   "cell_type": "markdown",
   "id": "b6453189",
   "metadata": {},
   "source": [
    "**Objectives**\n",
    "- data science libraries like ggplot, SciPy, NumPy or Pandas\n",
    "- data science language like R, Julia, Java, Python\n",
    "- data science development einvorments like Jupyterlab, VS code\n",
    "- data science execution einvormets like Apach spark, Apach flink"
   ]
  },
  {
   "cell_type": "markdown",
   "id": "7958faed",
   "metadata": {},
   "source": [
    "Here is some of the popular languages that Data Scientists use:\n",
    "\n",
    "1. R\n",
    "2. Python\n",
    "3. Javascript"
   ]
  },
  {
   "cell_type": "markdown",
   "id": "335fbd8b",
   "metadata": {},
   "source": [
    "Some of the commonly used libraries in Data Science are:\n",
    "    \n",
    "   1. NumPy\n",
    "   2. ggplot2\n",
    "   3. Pandas"
   ]
  },
  {
   "cell_type": "markdown",
   "id": "e46131fc",
   "metadata": {},
   "source": [
    " |Data Science Tools|\n",
    " |------------------|\n",
    " |VS code           |\n",
    " |Jupyter notebook  |\n",
    " |Jupyterlab        |\n",
    " \n",
    " "
   ]
  },
  {
   "cell_type": "markdown",
   "id": "decdddbc",
   "metadata": {},
   "source": [
    "### Below are some examples of evaluating arithmetic expressions in Python language"
   ]
  },
  {
   "cell_type": "code",
   "execution_count": 1,
   "id": "c3be4948",
   "metadata": {},
   "outputs": [
    {
     "data": {
      "text/plain": [
       "17"
      ]
     },
     "execution_count": 1,
     "metadata": {},
     "output_type": "execute_result"
    }
   ],
   "source": [
    "(3*4)+5\n",
    "#This a simple arithmetic expression to mutiply then add integers"
   ]
  },
  {
   "cell_type": "code",
   "execution_count": 1,
   "id": "59019e61",
   "metadata": {},
   "outputs": [
    {
     "name": "stdout",
     "output_type": "stream",
     "text": [
      "3.3333333333333335\n"
     ]
    }
   ],
   "source": [
    "minutes = 200\n",
    "hours = 60 \n",
    "print(minutes/hours)\n",
    "#This will convert 200 minutes to hours by diving by 60"
   ]
  },
  {
   "cell_type": "markdown",
   "id": "2f534050",
   "metadata": {},
   "source": [
    "## Author\n",
    "Kyryl"
   ]
  }
 ],
 "metadata": {
  "kernelspec": {
   "display_name": "Python 3 (ipykernel)",
   "language": "python",
   "name": "python3"
  },
  "language_info": {
   "codemirror_mode": {
    "name": "ipython",
    "version": 3
   },
   "file_extension": ".py",
   "mimetype": "text/x-python",
   "name": "python",
   "nbconvert_exporter": "python",
   "pygments_lexer": "ipython3",
   "version": "3.11.4"
  }
 },
 "nbformat": 4,
 "nbformat_minor": 5
}
